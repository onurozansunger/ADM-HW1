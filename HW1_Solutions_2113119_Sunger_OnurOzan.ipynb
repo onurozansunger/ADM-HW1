{
  "nbformat": 4,
  "nbformat_minor": 0,
  "metadata": {
    "colab": {
      "provenance": [],
      "authorship_tag": "ABX9TyOkg8eoiMA81Q+BWxF2kc/l",
      "include_colab_link": true
    },
    "kernelspec": {
      "name": "python3",
      "display_name": "Python 3"
    },
    "language_info": {
      "name": "python"
    }
  },
  "cells": [
    {
      "cell_type": "markdown",
      "metadata": {
        "id": "view-in-github",
        "colab_type": "text"
      },
      "source": [
        "<a href=\"https://colab.research.google.com/github/onurozansunger/ADM-HW1/blob/main/HW1_Solutions_2113119_Sunger_OnurOzan.ipynb\" target=\"_parent\"><img src=\"https://colab.research.google.com/assets/colab-badge.svg\" alt=\"Open In Colab\"/></a>"
      ]
    },
    {
      "cell_type": "markdown",
      "source": [
        "ADM 2023 HOMEWORK 1 SOLUTIONS- ONUR OZAN SUNGER- 2113119"
      ],
      "metadata": {
        "id": "YNJSD8amOGet"
      }
    },
    {
      "cell_type": "markdown",
      "source": [
        "Hello sir, before the codes, I would like to say the following: I just moved to my house and there is no internet in my house yet. For this reason, I had problems with the assignment. Although I have solved Problem 2 and Problem 3, I have a considerable deficiency in Problem 1. I apologize to you for this. I only had 7 GB of Mobile Data left and there are 5 days left before it is renewed. For this reason, I have to submit it in its incomplete form. With your permission, I would like to complete and send the missing parts when the internet comes to my home. Thank you in advance."
      ],
      "metadata": {
        "id": "LjeJ-A6AXUuN"
      }
    },
    {
      "cell_type": "markdown",
      "source": [
        "# **Problem 1**"
      ],
      "metadata": {
        "id": "pYlNASd0Ocvg"
      }
    },
    {
      "cell_type": "markdown",
      "source": [
        "Introduction"
      ],
      "metadata": {
        "id": "uNt-9aktO4m9"
      }
    },
    {
      "cell_type": "code",
      "execution_count": null,
      "metadata": {
        "colab": {
          "base_uri": "https://localhost:8080/"
        },
        "id": "-6CupQDCOEqU",
        "outputId": "5545ac17-a174-4697-83d6-941f39d76a78"
      },
      "outputs": [
        {
          "output_type": "stream",
          "name": "stdout",
          "text": [
            "Hello, World!\n"
          ]
        }
      ],
      "source": [
        "#Say \"Hello, World!\" With Python\n",
        "\n",
        "\n",
        "if __name__ == '__main__':\n",
        "    print(\"Hello, World!\")\n"
      ]
    },
    {
      "cell_type": "code",
      "source": [
        "#Python If-Else\n",
        "\n",
        "#!/bin/python3\n",
        "\n",
        "import math\n",
        "import os\n",
        "import random\n",
        "import re\n",
        "import sys\n",
        "\n",
        "\n",
        "\n",
        "if __name__ == '__main__':\n",
        "    n = int(input().strip())\n",
        "if n % 2 == 1:\n",
        "    print(\"Weird\")\n",
        "elif n % 2 == 0 and 2 <= n <= 5:\n",
        "    print(\"Not Weird\")\n",
        "elif n % 2 == 0 and 6 <= n <= 20:\n",
        "    print(\"Weird\")\n",
        "else:\n",
        "    print(\"Not Weird\")\n"
      ],
      "metadata": {
        "id": "07r5cgwyO6qn"
      },
      "execution_count": null,
      "outputs": []
    },
    {
      "cell_type": "code",
      "source": [
        "#Arithmetic Operators\n",
        "\n",
        "if __name__ == '__main__':\n",
        "    a = int(input())\n",
        "    b = int(input())\n",
        "    c=a+b\n",
        "    print(c)\n",
        "    c=a-b\n",
        "    print(c)\n",
        "    c=(a*b)\n",
        "    print(c)\n"
      ],
      "metadata": {
        "id": "ZZOPGzHgPLkS"
      },
      "execution_count": null,
      "outputs": []
    },
    {
      "cell_type": "code",
      "source": [
        "#Python: Division\n",
        "\n",
        "if __name__ == '__main__':\n",
        "    a = int(input())\n",
        "    b = int(input())\n",
        "    c=a//b\n",
        "    print(c)\n",
        "    c=a/b\n",
        "    print(c)\n"
      ],
      "metadata": {
        "id": "W6tw6uaoPgyW"
      },
      "execution_count": null,
      "outputs": []
    },
    {
      "cell_type": "code",
      "source": [
        "#Loops\n",
        "\n",
        "if __name__ == '__main__':\n",
        "    n = int(input())\n",
        "    for i in range(n):\n",
        "        print(i ** 2)\n"
      ],
      "metadata": {
        "id": "j01sWhZ9Pn_P"
      },
      "execution_count": null,
      "outputs": []
    },
    {
      "cell_type": "code",
      "source": [
        "#Write a function\n",
        "\n",
        "def is_leap(year):\n",
        "    leap = False\n",
        "    if year % 4 == 0:\n",
        "        leap = True\n",
        "        if year % 100 == 0:\n",
        "            leap = False\n",
        "            if year % 400 == 0:\n",
        "                leap = True\n",
        "    return leap\n",
        "\n"
      ],
      "metadata": {
        "id": "PbvfjS5VPudK"
      },
      "execution_count": null,
      "outputs": []
    },
    {
      "cell_type": "code",
      "source": [
        "#Print Function\n",
        "\n",
        "if __name__ == '__main__':\n",
        "    n = int(input())\n",
        "    liste = list(range(1, n + 1))\n",
        "    result = ''.join(map(str, liste))\n",
        "    print(result)\n"
      ],
      "metadata": {
        "id": "eDqW6cG-P4zA"
      },
      "execution_count": null,
      "outputs": []
    },
    {
      "cell_type": "markdown",
      "source": [
        "Data Types"
      ],
      "metadata": {
        "id": "KVOU_su9QDNC"
      }
    },
    {
      "cell_type": "code",
      "source": [
        "#List Comprehensions\n",
        "\n",
        "if __name__ == '__main__':\n",
        "    x = int(input())\n",
        "    y = int(input())\n",
        "    z = int(input())\n",
        "    n = int(input())\n",
        "    coordinates = [[i, j, k] for i in range(x + 1) for j in range(y + 1) for k in range(z + 1) if i + j + k != n]\n",
        "\n",
        "print(coordinates)\n"
      ],
      "metadata": {
        "id": "CqT83PzGQIcn"
      },
      "execution_count": null,
      "outputs": []
    },
    {
      "cell_type": "code",
      "source": [
        "#Find the Runner-Up Score!\n",
        "\n",
        "if __name__ == '__main__':\n",
        "    n = int(input())\n",
        "    arr = map(int, input().split())\n",
        "\n",
        "    arr = list(arr)\n",
        "\n",
        "    sorted_arr = sorted(arr, reverse=True)\n",
        "\n",
        "    runner_up_score = None\n",
        "\n",
        "    for score in sorted_arr:\n",
        "        if score != sorted_arr[0]:\n",
        "            runner_up_score = score\n",
        "            break\n",
        "\n",
        "    print(runner_up_score)\n"
      ],
      "metadata": {
        "id": "5tXoVAQ3QZSI"
      },
      "execution_count": null,
      "outputs": []
    },
    {
      "cell_type": "code",
      "source": [
        "#Nested Lists\n",
        "\n",
        "if __name__ == '__main__':\n",
        "    student_data = []\n",
        "    for _ in range(int(input())):\n",
        "        name = input()\n",
        "        score = float(input())\n",
        "        student_data.append([name, score])\n",
        "    student_data.sort(key=lambda x: (x[1], x[0]))\n",
        "    second_lowest_score = None\n",
        "    for i in range(1, len(student_data)):\n",
        "        if student_data[i][1] > student_data[i - 1][1]:\n",
        "            second_lowest_score = student_data[i][1]\n",
        "            break\n",
        "    second_lowest_students = [name for name, score in student_data if score == second_lowest_score]\n",
        "    second_lowest_students.sort()\n",
        "    for name in second_lowest_students:\n",
        "        print(name)\n"
      ],
      "metadata": {
        "id": "D_tdpeYGQ9i9"
      },
      "execution_count": null,
      "outputs": []
    },
    {
      "cell_type": "code",
      "source": [
        "#Finding the percentage\n",
        "\n",
        "if __name__ == '__main__':\n",
        "    n = int(input())\n",
        "    student_marks = {}\n",
        "    for _ in range(n):\n",
        "        name, *line = input().split()\n",
        "        scores = list(map(float, line))\n",
        "        student_marks[name] = scores\n",
        "    query_name = input()\n",
        "    if query_name in student_marks:\n",
        "        marks = student_marks[query_name]\n",
        "        average = sum(marks) / len(marks)\n",
        "        print(\"{:.2f}\".format(average))\n",
        "    else:\n",
        "        print(\"Student not found\")\n"
      ],
      "metadata": {
        "id": "JgqrpnsHRCXp"
      },
      "execution_count": null,
      "outputs": []
    },
    {
      "cell_type": "code",
      "source": [
        "#Lists\n",
        "\n",
        "if __name__ == '__main__':\n",
        "    N = int(input())\n",
        "    my_list = []\n",
        "    for _ in range(N):\n",
        "        command = input().split()\n",
        "        if command[0] == \"insert\":\n",
        "            i, e = int(command[1]), int(command[2])\n",
        "            my_list.insert(i, e)\n",
        "        elif command[0] == \"print\":\n",
        "            print(my_list)\n",
        "        elif command[0] == \"remove\":\n",
        "            e = int(command[1])\n",
        "            my_list.remove(e)\n",
        "        elif command[0] == \"append\":\n",
        "            e = int(command[1])\n",
        "            my_list.append(e)\n",
        "        elif command[0] == \"sort\":\n",
        "            my_list.sort()\n",
        "        elif command[0] == \"pop\":\n",
        "            my_list.pop()\n",
        "        elif command[0] == \"reverse\":\n",
        "            my_list.reverse()\n"
      ],
      "metadata": {
        "id": "INkpAkE-RID7"
      },
      "execution_count": null,
      "outputs": []
    },
    {
      "cell_type": "code",
      "source": [
        "#Tuples\n",
        "\n",
        "if __name__ == '__main__':\n",
        "    n = int(input())\n",
        "    integer_list = map(int, input().split())\n",
        "\n",
        "    my_tuple = tuple(integer_list)\n",
        "\n",
        "    result = hash(my_tuple)\n",
        "    print(result)\n"
      ],
      "metadata": {
        "id": "ZEhp22ZXRPN9"
      },
      "execution_count": null,
      "outputs": []
    },
    {
      "cell_type": "markdown",
      "source": [
        "Strings"
      ],
      "metadata": {
        "id": "dN_I0KPfRljm"
      }
    },
    {
      "cell_type": "code",
      "source": [
        "#sWAP Case\n",
        "def swap_case(s):\n",
        "    return s.swapcase()\n"
      ],
      "metadata": {
        "id": "5ogOytdYRnH8"
      },
      "execution_count": null,
      "outputs": []
    },
    {
      "cell_type": "code",
      "source": [
        "#String Split and Join\n",
        "\n",
        "def split_and_join(line):\n",
        "    line = line.split(\" \")\n",
        "    line = \"-\".join(line)\n",
        "    return line\n",
        "\n",
        "if __name__ == '__main__':\n",
        "    line = input()\n",
        "    result = split_and_join(line)\n",
        "    print(result)\n"
      ],
      "metadata": {
        "id": "Dwl1bfLNSDfT"
      },
      "execution_count": null,
      "outputs": []
    },
    {
      "cell_type": "code",
      "source": [
        "#What's Your Name?\n",
        "\n",
        "def print_full_name(a, b):\n",
        "    print(\"Hello %s %s! You just delved into python.\"%(a, b))\n"
      ],
      "metadata": {
        "id": "6q2KEn3MSJlb"
      },
      "execution_count": null,
      "outputs": []
    },
    {
      "cell_type": "code",
      "source": [
        "#Mutations\n",
        "\n",
        "def mutate_string(string, position, character):\n",
        "    return string[:position] + character + string[position + 1:]\n",
        "\n"
      ],
      "metadata": {
        "id": "XYJBizMiSOO-"
      },
      "execution_count": null,
      "outputs": []
    },
    {
      "cell_type": "code",
      "source": [
        "#Find a string\n",
        "\n",
        "def count_substring(string, sub_string):\n",
        "    counter = 0\n",
        "    i = string.find(sub_string)\n",
        "\n",
        "    while i != -1:\n",
        "        counter += 1\n",
        "        i = string.find(sub_string, i+1)\n",
        "\n",
        "\n",
        "    return counter\n",
        "\n"
      ],
      "metadata": {
        "id": "aJGGgYflSSLf"
      },
      "execution_count": null,
      "outputs": []
    },
    {
      "cell_type": "code",
      "source": [
        "#String Validators\n",
        "\n",
        "if __name__ == '__main__':\n",
        "    s = input()\n",
        "    print(any(i.isalnum() for i in s))\n",
        "    print(any(i.isalpha() for i in s))\n",
        "    print(any(i.isdigit() for i in s))\n",
        "    print(any(i.islower() for i in s))\n",
        "    print(any(i.isupper() for i in s))\n"
      ],
      "metadata": {
        "id": "JNDq1RSzSWKf"
      },
      "execution_count": null,
      "outputs": []
    },
    {
      "cell_type": "code",
      "source": [
        "#Text Alignment\n",
        "\n",
        "THICKNESS = int(input()) #odd number\n",
        "a=\"H\"\n",
        "for i in range(THICKNESS):\n",
        "    print((a*i).rjust(THICKNESS-1)+a+(a*i).ljust(THICKNESS-1))\n",
        "\n",
        "for i in range(THICKNESS+1):\n",
        "    print((a*THICKNESS).center(THICKNESS*2)+(a*THICKNESS).center(THICKNESS*6))\n",
        "\n",
        "for i in range((THICKNESS+1)//2):\n",
        "    print((a*THICKNESS*5).center(THICKNESS*6))\n",
        "\n",
        "for i in range(THICKNESS+1):\n",
        "    print((a*THICKNESS).center(THICKNESS*2)+(a*THICKNESS).center(THICKNESS*6))\n",
        "\n",
        "for i in range(THICKNESS):\n",
        "    print(((a*(THICKNESS-i-1)).rjust(THICKNESS)+a+(a*(THICKNESS-i-1)).ljust(THICKNESS)).rjust(THICKNESS*6))\n"
      ],
      "metadata": {
        "id": "UUae5hafSgrK"
      },
      "execution_count": null,
      "outputs": []
    },
    {
      "cell_type": "code",
      "source": [
        "#Text Wrap\n",
        "\n",
        "\n",
        "\n",
        "def wrap(string, max_width):\n",
        "    string = [a for a in string]\n",
        "    for i in range(max_width, len(string) + max_width, max_width+1):\n",
        "        string.insert(i, '\\n')\n",
        "    return (\"\").join(string)\n",
        "\n",
        "\n"
      ],
      "metadata": {
        "id": "M7zToqjnSvG6"
      },
      "execution_count": null,
      "outputs": []
    },
    {
      "cell_type": "code",
      "source": [
        "#Designer Door Mat\n",
        "\n",
        "A, B = map(int, input().split())\n",
        "for i in range(int(A/2)):\n",
        "    string = \".|.\" * (2 * i + 1)\n",
        "    x = string.center(B, '-')\n",
        "    print(x)\n",
        "print(\"WELCOME\".center(B, '-'))\n",
        "for i in reversed(range(int(A/2))):\n",
        "    string = \".|.\" * (2 * i + 1)\n",
        "    x = string.center(B, '-')\n",
        "    print(x)\n"
      ],
      "metadata": {
        "id": "4hlUGY-BTCfJ"
      },
      "execution_count": null,
      "outputs": []
    },
    {
      "cell_type": "code",
      "source": [
        "#String Formatting\n",
        "\n",
        "def print_formatted(number):\n",
        "    for i in range(1, number + 1):\n",
        "        width = len(f\"{number:b}\")\n",
        "        print(f\"{i:{width}} {i:{width}o} {i:{width}X} {i:{width}b}\")\n",
        "\n"
      ],
      "metadata": {
        "id": "y2vgTTLjTHZJ"
      },
      "execution_count": null,
      "outputs": []
    },
    {
      "cell_type": "code",
      "source": [
        "#Alphabet Rangoli\n",
        "\n",
        "def print_rangoli(size):\n",
        "    width = size*4-3\n",
        "    ''' I am tired'''\n",
        "    string = ''\n",
        "    for i in range(1, size+1):\n",
        "        for j in range(0, i):\n",
        "            string += chr(96+size-j)\n",
        "            if len(string) < width:\n",
        "                string += '-'\n",
        "        for k in range(i-1, 0, -1):\n",
        "            string += chr(97+size-k)\n",
        "            if len(string) < width:\n",
        "                string += '-'\n",
        "        print(string.center(width, '-'))\n",
        "        string = ''\n",
        "\n",
        "    for i in range(size-1, 0, -1):\n",
        "        string = ''\n",
        "        for j in range(0, i):\n",
        "            string += chr(96+size-j)\n",
        "            if len(string) < width:\n",
        "                string += '-'\n",
        "        for k in range(i-1, 0, -1):\n",
        "            string += chr(97+size-k)\n",
        "            if len(string) < width:\n",
        "                string += '-'\n",
        "        print(string.center(width, '-'))\n",
        "\n"
      ],
      "metadata": {
        "id": "Y9OpMb_8TNyi"
      },
      "execution_count": null,
      "outputs": []
    },
    {
      "cell_type": "code",
      "source": [
        "#Capitalize\n",
        "\n",
        "\n",
        "# Complete the solve function below.\n",
        "def solve(s):\n",
        "    s = s.split(\" \")\n",
        "    return \" \".join(i.capitalize() for i in s)\n",
        "    #I get help from Google\n",
        "\n"
      ],
      "metadata": {
        "id": "heOjEK_kTTRw"
      },
      "execution_count": null,
      "outputs": []
    },
    {
      "cell_type": "code",
      "source": [
        "#The Minion Game\n",
        "\n",
        "#I got help from Google\n",
        "def minion_game(string):\n",
        "    stuart = 0\n",
        "    kevin = 0\n",
        "    strlen = len(string)\n",
        "\n",
        "    for i in range(strlen):\n",
        "        for vowc in \"AEIOU\":\n",
        "            if string[i].find(vowc) >= 0:\n",
        "                kevin = kevin + strlen - i\n",
        "\n",
        "    stuart = int(strlen*(strlen+1)/2) - kevin\n",
        "\n",
        "    if stuart > kevin:\n",
        "        print(\"Stuart \" + str(stuart))\n",
        "    if kevin > stuart:\n",
        "        print(\"Kevin \" + str(kevin))\n",
        "    if kevin == stuart:\n",
        "        print(\"Draw\")\n",
        "\n",
        "    return 0\n",
        "\n"
      ],
      "metadata": {
        "id": "xe01XwANTcAV"
      },
      "execution_count": null,
      "outputs": []
    },
    {
      "cell_type": "code",
      "source": [
        "#Merge the Tools!\n",
        "\n",
        "def merge_the_tools(string, k):\n",
        "    x = [string[i:i+k] for i in range(0, len(string), k)]\n",
        "    for i in x:\n",
        "        j = 0\n",
        "        short = \"\"\n",
        "        for _ in i:\n",
        "            if i.index(_) == j:\n",
        "                short += _\n",
        "            j += 1\n",
        "        print(short)\n",
        "\n"
      ],
      "metadata": {
        "id": "Natfq1wRUAP0"
      },
      "execution_count": null,
      "outputs": []
    },
    {
      "cell_type": "markdown",
      "source": [
        "Sets"
      ],
      "metadata": {
        "id": "b8-CH0o_UHkn"
      }
    },
    {
      "cell_type": "code",
      "source": [
        "#Introduction to Sets\n",
        "\n",
        "def average(array):\n",
        "    a = set(arr)\n",
        "    return float(sum(a)) / len(a)\n",
        "\n"
      ],
      "metadata": {
        "id": "ph5BgN-PUTTe"
      },
      "execution_count": null,
      "outputs": []
    },
    {
      "cell_type": "code",
      "source": [
        "#Symmetric Difference\n",
        "\n",
        "m = int(input())\n",
        "\n",
        "set_a = set(map(int, input().split()))\n",
        "\n",
        "n = int(input())\n",
        "\n",
        "set_b = set(map(int, input().split()))\n",
        "\n",
        "difference_a = set_a.difference(set_b)\n",
        "difference_b = set_b.difference(set_a)\n",
        "\n",
        "union_of_differences = difference_a.union(difference_b)\n",
        "\n",
        "result_list = list(union_of_differences)\n",
        "\n",
        "result_list.sort()\n",
        "\n",
        "for i in range(len(result_list)):\n",
        "    print(result_list[i])\n"
      ],
      "metadata": {
        "id": "iQL_HXseUXaS"
      },
      "execution_count": null,
      "outputs": []
    },
    {
      "cell_type": "code",
      "source": [
        "#No Idea!\n",
        "\n",
        "N = input().split()\n",
        "M = input().split()\n",
        "A = set(input().split())\n",
        "B = set(input().split())\n",
        "counter = 0\n",
        "\n",
        "for i in M:\n",
        "    if i in A:\n",
        "        counter += 1\n",
        "    if i in B:\n",
        "        counter -= 1\n",
        "\n",
        "print(counter)\n"
      ],
      "metadata": {
        "id": "quuu18YFUcZr"
      },
      "execution_count": null,
      "outputs": []
    },
    {
      "cell_type": "code",
      "source": [
        "#Set .add()\n",
        "\n",
        "n = int(input())\n",
        "names_set = set()\n",
        "for i in range(n):\n",
        "    name = input()\n",
        "    names_set.add(name)\n",
        "print(len(names_set))\n"
      ],
      "metadata": {
        "id": "_RaJeYduUiWr"
      },
      "execution_count": null,
      "outputs": []
    },
    {
      "cell_type": "markdown",
      "source": [
        "Date and Time"
      ],
      "metadata": {
        "id": "66FD46m3UvVY"
      }
    },
    {
      "cell_type": "code",
      "source": [
        "#Calendar Module\n",
        "\n",
        "from datetime import datetime\n",
        "\n",
        "input_date = input(\"\")\n",
        "\n",
        "try:\n",
        "    date_obj = datetime.strptime(input_date, \"%m %d %Y\")\n",
        "\n",
        "    day_of_week = date_obj.strftime(\"%A\").upper()\n",
        "\n",
        "    print(day_of_week)\n",
        "except ValueError:\n",
        "    print(\"Invalid date format. Please use MM DD YYYY format.\")\n"
      ],
      "metadata": {
        "id": "rBrYQIOdUwW6"
      },
      "execution_count": null,
      "outputs": []
    },
    {
      "cell_type": "code",
      "source": [
        "#Time Delta\n",
        "\n",
        "#!/bin/python3\n",
        "from datetime import datetime\n",
        "import math\n",
        "import os\n",
        "import random\n",
        "import re\n",
        "import sys\n",
        "\n",
        "# Complete the time_delta function below.\n",
        "def time_delta(t1, t2):\n",
        "    time_one = datetime.strptime(t1, '%a %d %b %Y %H:%M:%S %z')\n",
        "    time_two = datetime.strptime(t2, '%a %d %b %Y %H:%M:%S %z')\n",
        "\n",
        "    time_difference_seconds = abs((time_one - time_two).total_seconds())\n",
        "\n",
        "    return str(int(time_difference_seconds))\n",
        "\n",
        "if __name__ == '__main__':\n",
        "    fptr = open(os.environ['OUTPUT_PATH'], 'w')\n",
        "\n",
        "    t = int(input())\n",
        "\n",
        "    for t_itr in range(t):\n",
        "        t1 = input()\n",
        "\n",
        "        t2 = input()\n",
        "\n",
        "        delta = time_delta(t1, t2)\n",
        "\n",
        "        fptr.write(delta + '\\n')\n",
        "\n",
        "    fptr.close()\n"
      ],
      "metadata": {
        "id": "D_RudsKfU6gA"
      },
      "execution_count": null,
      "outputs": []
    },
    {
      "cell_type": "markdown",
      "source": [
        "Python Functionals"
      ],
      "metadata": {
        "id": "d6xxq5_yU_zT"
      }
    },
    {
      "cell_type": "code",
      "source": [
        "#Map and Lambda Function\n",
        "\n",
        "\n",
        "cube = lambda x: x ** 3\n",
        "\n",
        "\n",
        "def fibonacci(n):\n",
        "    List = [0, 1]\n",
        "    for i in range(2, n):\n",
        "        List.append(List[i-1] + List[i-2])\n",
        "\n",
        "    return(List[0:n])\n",
        "    #I got help from google\n"
      ],
      "metadata": {
        "id": "pzqev5u3VC8c"
      },
      "execution_count": null,
      "outputs": []
    },
    {
      "cell_type": "markdown",
      "source": [
        "# **Problem 2**"
      ],
      "metadata": {
        "id": "a6ihQlVfVw6L"
      }
    },
    {
      "cell_type": "code",
      "source": [
        "#Birthday Cake Candles\n",
        "\n",
        "#!/bin/python3\n",
        "\n",
        "import math\n",
        "import os\n",
        "import random\n",
        "import re\n",
        "import sys\n",
        "\n",
        "#\n",
        "# Complete the 'birthdayCakeCandles' function below.\n",
        "#\n",
        "# The function is expected to return an INTEGER.\n",
        "# The function accepts INTEGER_ARRAY candles as parameter.\n",
        "#\n",
        "\n",
        "def birthdayCakeCandles(ar):\n",
        "    candles = 0\n",
        "    max_arr = max(ar)\n",
        "    for a in ar:\n",
        "        if a == max_arr:\n",
        "            candles += 1\n",
        "    return candles\n",
        "\n",
        "if __name__ == '__main__':\n",
        "    fptr = open(os.environ['OUTPUT_PATH'], 'w')\n",
        "\n",
        "    candles_count = int(input().strip())\n",
        "\n",
        "    candles = list(map(int, input().rstrip().split()))\n",
        "\n",
        "    result = birthdayCakeCandles(candles)\n",
        "\n",
        "    fptr.write(str(result) + '\\n')\n",
        "\n",
        "    fptr.close()\n"
      ],
      "metadata": {
        "id": "VWcPcv4dV0Oj"
      },
      "execution_count": null,
      "outputs": []
    },
    {
      "cell_type": "code",
      "source": [
        "#Number Line Jumps\n",
        "\n",
        "#!/bin/python3\n",
        "\n",
        "import math\n",
        "import os\n",
        "import random\n",
        "import re\n",
        "import sys\n",
        "\n",
        "#\n",
        "# Complete the 'kangaroo' function below.\n",
        "#\n",
        "# The function is expected to return a STRING.\n",
        "# The function accepts following parameters:\n",
        "#  1. INTEGER x1\n",
        "#  2. INTEGER v1\n",
        "#  3. INTEGER x2\n",
        "#  4. INTEGER v2\n",
        "#\n",
        "\n",
        "def kangaroo(x1, v1, x2, v2):\n",
        "    if v1 == v2:\n",
        "        return \"NO\"\n",
        "\n",
        "    if (x2 - x1) % (v1 - v2) == 0 and (x2 - x1) / (v1 - v2) >= 0:\n",
        "        return \"YES\"\n",
        "    else:\n",
        "        return \"NO\"\n",
        "\n",
        "if __name__ == '__main__':\n",
        "    fptr = open(os.environ['OUTPUT_PATH'], 'w')\n",
        "\n",
        "    first_multiple_input = input().rstrip().split()\n",
        "\n",
        "    x1 = int(first_multiple_input[0])\n",
        "\n",
        "    v1 = int(first_multiple_input[1])\n",
        "\n",
        "    x2 = int(first_multiple_input[2])\n",
        "\n",
        "    v2 = int(first_multiple_input[3])\n",
        "\n",
        "    result = kangaroo(x1, v1, x2, v2)\n",
        "\n",
        "    fptr.write(result + '\\n')\n",
        "\n",
        "    fptr.close()\n"
      ],
      "metadata": {
        "id": "No54JeSmWHb_"
      },
      "execution_count": null,
      "outputs": []
    },
    {
      "cell_type": "code",
      "source": [
        "#Viral Advertising\n",
        "\n",
        "#!/bin/python3\n",
        "\n",
        "import math\n",
        "import os\n",
        "import random\n",
        "import re\n",
        "import sys\n",
        "\n",
        "#\n",
        "# Complete the 'viralAdvertising' function below.\n",
        "#\n",
        "# The function is expected to return an INTEGER.\n",
        "# The function accepts INTEGER n as parameter.\n",
        "#\n",
        "\n",
        "def viralAdvertising(n):\n",
        "    shared =5\n",
        "    cumulative=0\n",
        "    for i in range(1,n+1):\n",
        "        liked = shared//2\n",
        "        cumulative+=liked\n",
        "        shared = liked*3\n",
        "    return cumulative\n",
        "\n",
        "    #I got help from Google\n",
        "\n",
        "if __name__ == '__main__':\n",
        "    fptr = open(os.environ['OUTPUT_PATH'], 'w')\n",
        "\n",
        "    n = int(input().strip())\n",
        "\n",
        "    result = viralAdvertising(n)\n",
        "\n",
        "    fptr.write(str(result) + '\\n')\n",
        "\n",
        "    fptr.close()\n"
      ],
      "metadata": {
        "id": "qXetotq7WZW2"
      },
      "execution_count": null,
      "outputs": []
    },
    {
      "cell_type": "code",
      "source": [
        "#Recursive Digit Sum\n",
        "\n",
        "#!/bin/python3\n",
        "\n",
        "import math\n",
        "import os\n",
        "import random\n",
        "import re\n",
        "import sys\n",
        "\n",
        "#\n",
        "# Complete the 'superDigit' function below.\n",
        "#\n",
        "# The function is expected to return an INTEGER.\n",
        "# The function accepts following parameters:\n",
        "#  1. STRING n\n",
        "#  2. INTEGER k\n",
        "#\n",
        "\n",
        "def superDigit(n, k):\n",
        "    if len(n) == 1:\n",
        "        return int(n)\n",
        "\n",
        "    digit_sum = sum(int(digit) for digit in n)\n",
        "\n",
        "    return superDigit(str(digit_sum * k), 1)\n",
        "\n",
        "if __name__ == '__main__':\n",
        "    fptr = open(os.environ['OUTPUT_PATH'], 'w')\n",
        "\n",
        "    first_multiple_input = input().rstrip().split()\n",
        "\n",
        "    n = first_multiple_input[0]\n",
        "\n",
        "    k = int(first_multiple_input[1])\n",
        "\n",
        "    result = superDigit(n, k)\n",
        "\n",
        "    fptr.write(str(result) + '\\n')\n",
        "\n",
        "    fptr.close()\n"
      ],
      "metadata": {
        "id": "c90-cAQjWeS4"
      },
      "execution_count": null,
      "outputs": []
    },
    {
      "cell_type": "code",
      "source": [
        "#Insertion Sort - Part 1\n",
        "\n",
        "#!/bin/python3\n",
        "\n",
        "import math\n",
        "import os\n",
        "import random\n",
        "import re\n",
        "import sys\n",
        "\n",
        "#\n",
        "# Complete the 'insertionSort1' function below.\n",
        "#\n",
        "# The function accepts following parameters:\n",
        "#  1. INTEGER n\n",
        "#  2. INTEGER_ARRAY arr\n",
        "#\n",
        "\n",
        "def insertionSort1(n, arr):\n",
        "    key = arr[-1]\n",
        "    i = n - 2\n",
        "\n",
        "    while (i >= 0) and (arr[i] > key):\n",
        "        arr[i + 1] = arr[i]\n",
        "        print(\" \".join(map(str, arr)))\n",
        "        i -= 1\n",
        "\n",
        "    arr[i + 1] = key\n",
        "    print(\" \".join(map(str, arr)))\n",
        "\n",
        "if __name__ == '__main__':\n",
        "    n = int(input().strip())\n",
        "\n",
        "    arr = list(map(int, input().rstrip().split()))\n",
        "\n",
        "    insertionSort1(n, arr)\n"
      ],
      "metadata": {
        "id": "Jf6TGBfnXB7c"
      },
      "execution_count": null,
      "outputs": []
    },
    {
      "cell_type": "code",
      "source": [
        "#Insertion Sort - Part 2\n",
        "\n",
        "#!/bin/python3\n",
        "\n",
        "import math\n",
        "import os\n",
        "import random\n",
        "import re\n",
        "import sys\n",
        "\n",
        "#\n",
        "# Complete the 'insertionSort2' function below.\n",
        "#\n",
        "# The function accepts following parameters:\n",
        "#  1. INTEGER n\n",
        "#  2. INTEGER_ARRAY arr\n",
        "#\n",
        "\n",
        "def insertionSort2(n, arr):\n",
        "    for i in range(1, n):\n",
        "        key = arr[i]\n",
        "        j = i - 1\n",
        "\n",
        "        while j >= 0 and arr[j] > key:\n",
        "            arr[j + 1] = arr[j]\n",
        "            j -= 1\n",
        "\n",
        "        arr[j + 1] = key\n",
        "        print(\" \".join(map(str, arr)))\n",
        "\n",
        "if __name__ == '__main__':\n",
        "    n = int(input().strip())\n",
        "\n",
        "    arr = list(map(int, input().rstrip().split()))\n",
        "\n",
        "    insertionSort2(n, arr)\n"
      ],
      "metadata": {
        "id": "7tF6jt1sXGrN"
      },
      "execution_count": null,
      "outputs": []
    }
  ]
}